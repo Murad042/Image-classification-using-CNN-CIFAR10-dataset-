{
  "nbformat": 4,
  "nbformat_minor": 0,
  "metadata": {
    "colab": {
      "name": "Untitled5.ipynb",
      "provenance": [],
      "authorship_tag": "ABX9TyPC1aJ7HVqetzQ2yG5dHz6Q",
      "include_colab_link": true
    },
    "kernelspec": {
      "name": "python3",
      "display_name": "Python 3"
    },
    "language_info": {
      "name": "python"
    }
  },
  "cells": [
    {
      "cell_type": "markdown",
      "metadata": {
        "id": "view-in-github",
        "colab_type": "text"
      },
      "source": [
        "<a href=\"https://colab.research.google.com/github/Murad042/Image-classification-using-CNN-CIFAR10-dataset-/blob/main/Image%20classification%20using%20CNN.ipynb\" target=\"_parent\"><img src=\"https://colab.research.google.com/assets/colab-badge.svg\" alt=\"Open In Colab\"/></a>"
      ]
    },
    {
      "cell_type": "code",
      "metadata": {
        "id": "Xnc9bjVLpAwX"
      },
      "source": [
        "import tensorflow as tf\n",
        "from tensorflow.keras import datasets,layers,models\n",
        "import matplotlib.pyplot as plt\n",
        "import numpy as np\n"
      ],
      "execution_count": 1,
      "outputs": []
    },
    {
      "cell_type": "code",
      "metadata": {
        "colab": {
          "base_uri": "https://localhost:8080/"
        },
        "id": "jZI7rLQPpZYJ",
        "outputId": "6b997ce9-64dd-4acc-a041-1fb24d85326a"
      },
      "source": [
        "(X_train,y_train),(X_test,y_test) = datasets.cifar10.load_data()"
      ],
      "execution_count": 2,
      "outputs": [
        {
          "output_type": "stream",
          "text": [
            "Downloading data from https://www.cs.toronto.edu/~kriz/cifar-10-python.tar.gz\n",
            "170500096/170498071 [==============================] - 3s 0us/step\n"
          ],
          "name": "stdout"
        }
      ]
    },
    {
      "cell_type": "code",
      "metadata": {
        "colab": {
          "base_uri": "https://localhost:8080/"
        },
        "id": "-HfMAa7bqDTn",
        "outputId": "216d4a5a-4b21-4238-a6cd-ef542d0477c0"
      },
      "source": [
        "X_train.shape"
      ],
      "execution_count": 3,
      "outputs": [
        {
          "output_type": "execute_result",
          "data": {
            "text/plain": [
              "(50000, 32, 32, 3)"
            ]
          },
          "metadata": {
            "tags": []
          },
          "execution_count": 3
        }
      ]
    },
    {
      "cell_type": "code",
      "metadata": {
        "colab": {
          "base_uri": "https://localhost:8080/"
        },
        "id": "3CyoIHp4qnYN",
        "outputId": "d8837777-c306-4635-e19c-db9ef77c2be8"
      },
      "source": [
        "X_train[0]"
      ],
      "execution_count": 6,
      "outputs": [
        {
          "output_type": "execute_result",
          "data": {
            "text/plain": [
              "array([[[ 59,  62,  63],\n",
              "        [ 43,  46,  45],\n",
              "        [ 50,  48,  43],\n",
              "        ...,\n",
              "        [158, 132, 108],\n",
              "        [152, 125, 102],\n",
              "        [148, 124, 103]],\n",
              "\n",
              "       [[ 16,  20,  20],\n",
              "        [  0,   0,   0],\n",
              "        [ 18,   8,   0],\n",
              "        ...,\n",
              "        [123,  88,  55],\n",
              "        [119,  83,  50],\n",
              "        [122,  87,  57]],\n",
              "\n",
              "       [[ 25,  24,  21],\n",
              "        [ 16,   7,   0],\n",
              "        [ 49,  27,   8],\n",
              "        ...,\n",
              "        [118,  84,  50],\n",
              "        [120,  84,  50],\n",
              "        [109,  73,  42]],\n",
              "\n",
              "       ...,\n",
              "\n",
              "       [[208, 170,  96],\n",
              "        [201, 153,  34],\n",
              "        [198, 161,  26],\n",
              "        ...,\n",
              "        [160, 133,  70],\n",
              "        [ 56,  31,   7],\n",
              "        [ 53,  34,  20]],\n",
              "\n",
              "       [[180, 139,  96],\n",
              "        [173, 123,  42],\n",
              "        [186, 144,  30],\n",
              "        ...,\n",
              "        [184, 148,  94],\n",
              "        [ 97,  62,  34],\n",
              "        [ 83,  53,  34]],\n",
              "\n",
              "       [[177, 144, 116],\n",
              "        [168, 129,  94],\n",
              "        [179, 142,  87],\n",
              "        ...,\n",
              "        [216, 184, 140],\n",
              "        [151, 118,  84],\n",
              "        [123,  92,  72]]], dtype=uint8)"
            ]
          },
          "metadata": {
            "tags": []
          },
          "execution_count": 6
        }
      ]
    },
    {
      "cell_type": "code",
      "metadata": {
        "colab": {
          "base_uri": "https://localhost:8080/"
        },
        "id": "ZfXiJkd9uPQl",
        "outputId": "64cfc2a8-e46b-4b9c-b54b-78945f3135ce"
      },
      "source": [
        "y_train[:5]\n"
      ],
      "execution_count": 21,
      "outputs": [
        {
          "output_type": "execute_result",
          "data": {
            "text/plain": [
              "array([[6],\n",
              "       [9],\n",
              "       [9],\n",
              "       [4],\n",
              "       [1]], dtype=uint8)"
            ]
          },
          "metadata": {
            "tags": []
          },
          "execution_count": 21
        }
      ]
    },
    {
      "cell_type": "code",
      "metadata": {
        "id": "HD4l082-uaQF"
      },
      "source": [
        "y_train=y_train.reshape(-1)"
      ],
      "execution_count": 28,
      "outputs": []
    },
    {
      "cell_type": "code",
      "metadata": {
        "colab": {
          "base_uri": "https://localhost:8080/"
        },
        "id": "4dLZckVhw2j_",
        "outputId": "e2de0e99-bf2f-4277-888d-3f3785f55726"
      },
      "source": [
        "y_train[:5]"
      ],
      "execution_count": 29,
      "outputs": [
        {
          "output_type": "execute_result",
          "data": {
            "text/plain": [
              "array([6, 9, 9, 4, 1], dtype=uint8)"
            ]
          },
          "metadata": {
            "tags": []
          },
          "execution_count": 29
        }
      ]
    },
    {
      "cell_type": "code",
      "metadata": {
        "id": "PkZs_954tRD5"
      },
      "source": [
        "classes = ['airplane','automobile','bird','cat','deer','dog','frog','horse','ship','truck']\n",
        "\n"
      ],
      "execution_count": 30,
      "outputs": []
    },
    {
      "cell_type": "code",
      "metadata": {
        "id": "QHdbECsXrn_W"
      },
      "source": [
        "def plot_sample(X,y,index):\n",
        "  plt.figure(figsize=(15,2))\n",
        "  plt.imshow(X[index])\n",
        "  plt.xlabel(classes[y[index]])"
      ],
      "execution_count": 31,
      "outputs": []
    },
    {
      "cell_type": "code",
      "metadata": {
        "colab": {
          "base_uri": "https://localhost:8080/",
          "height": 173
        },
        "id": "JuPbtmbjsEjJ",
        "outputId": "e34b1661-8ea3-4b18-86c1-f8f603e41625"
      },
      "source": [
        "plot_sample(X_train,y_train,0)"
      ],
      "execution_count": 32,
      "outputs": [
        {
          "output_type": "display_data",
          "data": {
            "image/png": "[encoded data removed]",
            "text/plain": [
              "<Figure size 1080x144 with 1 Axes>"
            ]
          },
          "metadata": {
            "tags": [],
            "needs_background": "light"
          }
        }
      ]
    },
    {
      "cell_type": "code",
      "metadata": {
        "colab": {
          "base_uri": "https://localhost:8080/"
        },
        "id": "P7t38v_jv199",
        "outputId": "caccc36c-2b2c-4fd1-c54d-f7606ce61176"
      },
      "source": [
        "X_train[0]"
      ],
      "execution_count": 33,
      "outputs": [
        {
          "output_type": "execute_result",
          "data": {
            "text/plain": [
              "array([[[ 59,  62,  63],\n",
              "        [ 43,  46,  45],\n",
              "        [ 50,  48,  43],\n",
              "        ...,\n",
              "        [158, 132, 108],\n",
              "        [152, 125, 102],\n",
              "        [148, 124, 103]],\n",
              "\n",
              "       [[ 16,  20,  20],\n",
              "        [  0,   0,   0],\n",
              "        [ 18,   8,   0],\n",
              "        ...,\n",
              "        [123,  88,  55],\n",
              "        [119,  83,  50],\n",
              "        [122,  87,  57]],\n",
              "\n",
              "       [[ 25,  24,  21],\n",
              "        [ 16,   7,   0],\n",
              "        [ 49,  27,   8],\n",
              "        ...,\n",
              "        [118,  84,  50],\n",
              "        [120,  84,  50],\n",
              "        [109,  73,  42]],\n",
              "\n",
              "       ...,\n",
              "\n",
              "       [[208, 170,  96],\n",
              "        [201, 153,  34],\n",
              "        [198, 161,  26],\n",
              "        ...,\n",
              "        [160, 133,  70],\n",
              "        [ 56,  31,   7],\n",
              "        [ 53,  34,  20]],\n",
              "\n",
              "       [[180, 139,  96],\n",
              "        [173, 123,  42],\n",
              "        [186, 144,  30],\n",
              "        ...,\n",
              "        [184, 148,  94],\n",
              "        [ 97,  62,  34],\n",
              "        [ 83,  53,  34]],\n",
              "\n",
              "       [[177, 144, 116],\n",
              "        [168, 129,  94],\n",
              "        [179, 142,  87],\n",
              "        ...,\n",
              "        [216, 184, 140],\n",
              "        [151, 118,  84],\n",
              "        [123,  92,  72]]], dtype=uint8)"
            ]
          },
          "metadata": {
            "tags": []
          },
          "execution_count": 33
        }
      ]
    },
    {
      "cell_type": "code",
      "metadata": {
        "id": "Otj8K0xv1BPr"
      },
      "source": [
        "X_train = X_train/255\n",
        "X_test = X_test/255"
      ],
      "execution_count": 35,
      "outputs": []
    },
    {
      "cell_type": "code",
      "metadata": {
        "colab": {
          "base_uri": "https://localhost:8080/"
        },
        "id": "DQgV5wQE1K1j",
        "outputId": "4358136d-18d9-4d50-e61c-34ff3983c1f3"
      },
      "source": [
        "X_train[0]"
      ],
      "execution_count": 36,
      "outputs": [
        {
          "output_type": "execute_result",
          "data": {
            "text/plain": [
              "array([[[0.23137255, 0.24313725, 0.24705882],\n",
              "        [0.16862745, 0.18039216, 0.17647059],\n",
              "        [0.19607843, 0.18823529, 0.16862745],\n",
              "        ...,\n",
              "        [0.61960784, 0.51764706, 0.42352941],\n",
              "        [0.59607843, 0.49019608, 0.4       ],\n",
              "        [0.58039216, 0.48627451, 0.40392157]],\n",
              "\n",
              "       [[0.0627451 , 0.07843137, 0.07843137],\n",
              "        [0.        , 0.        , 0.        ],\n",
              "        [0.07058824, 0.03137255, 0.        ],\n",
              "        ...,\n",
              "        [0.48235294, 0.34509804, 0.21568627],\n",
              "        [0.46666667, 0.3254902 , 0.19607843],\n",
              "        [0.47843137, 0.34117647, 0.22352941]],\n",
              "\n",
              "       [[0.09803922, 0.09411765, 0.08235294],\n",
              "        [0.0627451 , 0.02745098, 0.        ],\n",
              "        [0.19215686, 0.10588235, 0.03137255],\n",
              "        ...,\n",
              "        [0.4627451 , 0.32941176, 0.19607843],\n",
              "        [0.47058824, 0.32941176, 0.19607843],\n",
              "        [0.42745098, 0.28627451, 0.16470588]],\n",
              "\n",
              "       ...,\n",
              "\n",
              "       [[0.81568627, 0.66666667, 0.37647059],\n",
              "        [0.78823529, 0.6       , 0.13333333],\n",
              "        [0.77647059, 0.63137255, 0.10196078],\n",
              "        ...,\n",
              "        [0.62745098, 0.52156863, 0.2745098 ],\n",
              "        [0.21960784, 0.12156863, 0.02745098],\n",
              "        [0.20784314, 0.13333333, 0.07843137]],\n",
              "\n",
              "       [[0.70588235, 0.54509804, 0.37647059],\n",
              "        [0.67843137, 0.48235294, 0.16470588],\n",
              "        [0.72941176, 0.56470588, 0.11764706],\n",
              "        ...,\n",
              "        [0.72156863, 0.58039216, 0.36862745],\n",
              "        [0.38039216, 0.24313725, 0.13333333],\n",
              "        [0.3254902 , 0.20784314, 0.13333333]],\n",
              "\n",
              "       [[0.69411765, 0.56470588, 0.45490196],\n",
              "        [0.65882353, 0.50588235, 0.36862745],\n",
              "        [0.70196078, 0.55686275, 0.34117647],\n",
              "        ...,\n",
              "        [0.84705882, 0.72156863, 0.54901961],\n",
              "        [0.59215686, 0.4627451 , 0.32941176],\n",
              "        [0.48235294, 0.36078431, 0.28235294]]])"
            ]
          },
          "metadata": {
            "tags": []
          },
          "execution_count": 36
        }
      ]
    },
    {
      "cell_type": "code",
      "metadata": {
        "colab": {
          "base_uri": "https://localhost:8080/"
        },
        "id": "y0Y0JFLa12TF",
        "outputId": "167f225d-1b8f-4aa4-9e0d-c41817967600"
      },
      "source": [
        "\n",
        "from keras.models import Sequential \n",
        "from keras.layers import Activation, Dense, Flatten \n",
        "ann = keras.Sequential([\n",
        "        keras.layers.Flatten(input_shape = (32,32,3)),\n",
        "        keras.layers.Dense(3000,activation='relu'),\n",
        "        keras.layers.Dense(1000,activation='relu'),\n",
        "        keras.layers.Dense(10,activation ='sigmoid')\n",
        "])\n",
        "\n",
        "ann.compile(optimizer='SGD',\n",
        "              loss = 'sparse_categorical_crossentropy',\n",
        "              metrics = ['accuracy'])\n",
        "ann.fit(X_train,y_train,epochs =5)"
      ],
      "execution_count": 41,
      "outputs": [
        {
          "output_type": "stream",
          "text": [
            "Epoch 1/5\n",
            "1563/1563 [==============================] - 105s 67ms/step - loss: 1.9293 - accuracy: 0.3117\n",
            "Epoch 2/5\n",
            "1563/1563 [==============================] - 104s 67ms/step - loss: 1.6406 - accuracy: 0.4234\n",
            "Epoch 3/5\n",
            "1563/1563 [==============================] - 106s 68ms/step - loss: 1.5524 - accuracy: 0.4493\n",
            "Epoch 4/5\n",
            "1563/1563 [==============================] - 104s 67ms/step - loss: 1.4915 - accuracy: 0.4736\n",
            "Epoch 5/5\n",
            "1563/1563 [==============================] - 102s 66ms/step - loss: 1.4350 - accuracy: 0.4978\n"
          ],
          "name": "stdout"
        },
        {
          "output_type": "execute_result",
          "data": {
            "text/plain": [
              "<tensorflow.python.keras.callbacks.History at 0x7fdee91c3090>"
            ]
          },
          "metadata": {
            "tags": []
          },
          "execution_count": 41
        }
      ]
    },
    {
      "cell_type": "code",
      "metadata": {
        "colab": {
          "base_uri": "https://localhost:8080/"
        },
        "id": "6n6PM6sM7HdY",
        "outputId": "28dd949e-2199-42d8-fa32-294a62a4b266"
      },
      "source": [
        "ann.evaluate(X_test,y_test)"
      ],
      "execution_count": 42,
      "outputs": [
        {
          "output_type": "stream",
          "text": [
            "313/313 [==============================] - 8s 24ms/step - loss: 1.4834 - accuracy: 0.4729\n"
          ],
          "name": "stdout"
        },
        {
          "output_type": "execute_result",
          "data": {
            "text/plain": [
              "[1.483428955078125, 0.47290000319480896]"
            ]
          },
          "metadata": {
            "tags": []
          },
          "execution_count": 42
        }
      ]
    },
    {
      "cell_type": "code",
      "metadata": {
        "colab": {
          "base_uri": "https://localhost:8080/"
        },
        "id": "z65DZwaW_KPx",
        "outputId": "7252d0cb-87d9-4184-a343-e7a02afcb0e4"
      },
      "source": [
        " from sklearn.metrics import confusion_matrix,classification_report\n",
        " import numpy as np\n",
        " y_pred = ann.predict(X_test)\n",
        "y_pred_classes = [np.argmax(element) for element in y_pred]\n",
        "print(\"Classification Report: \\n\", classification_report(y_test,y_pred_classes))"
      ],
      "execution_count": 44,
      "outputs": [
        {
          "output_type": "stream",
          "text": [
            "Classification Report: \n",
            "               precision    recall  f1-score   support\n",
            "\n",
            "           0       0.54      0.60      0.57      1000\n",
            "           1       0.49      0.74      0.59      1000\n",
            "           2       0.41      0.27      0.32      1000\n",
            "           3       0.43      0.14      0.21      1000\n",
            "           4       0.43      0.41      0.42      1000\n",
            "           5       0.46      0.33      0.39      1000\n",
            "           6       0.48      0.62      0.54      1000\n",
            "           7       0.35      0.78      0.48      1000\n",
            "           8       0.70      0.51      0.59      1000\n",
            "           9       0.68      0.33      0.44      1000\n",
            "\n",
            "    accuracy                           0.47     10000\n",
            "   macro avg       0.50      0.47      0.46     10000\n",
            "weighted avg       0.50      0.47      0.46     10000\n",
            "\n"
          ],
          "name": "stdout"
        }
      ]
    },
    {
      "cell_type": "code",
      "metadata": {
        "id": "u8HU2eZJJcv0"
      },
      "source": [
        "cnn = models.Sequential([\n",
        "        #cnn\n",
        "        layers.Conv2D(filters = 32,kernel_size =(3,3),activation = 'relu',input_shape=(32,32,3)),\n",
        "        layers.MaxPooling2D((2,2)),\n",
        "        layers.Conv2D(filters = 64,kernel_size =(3,3),activation = 'relu'),\n",
        "        layers.MaxPooling2D((2,2)),\n",
        "        #dense\n",
        "        layers.Flatten(),\n",
        "        layers.Dense(64,activation='relu'),\n",
        "        layers.Dense(10,activation ='softmax')\n",
        "])\n"
      ],
      "execution_count": 45,
      "outputs": []
    },
    {
      "cell_type": "code",
      "metadata": {
        "id": "dhnkH0Y9NJfP"
      },
      "source": [
        "cnn.compile(optimizer = 'adam',\n",
        "              loss = 'sparse_categorical_crossentropy',\n",
        "              metrics = ['accuracy'])\n",
        "              "
      ],
      "execution_count": 46,
      "outputs": []
    },
    {
      "cell_type": "code",
      "metadata": {
        "colab": {
          "base_uri": "https://localhost:8080/"
        },
        "id": "MAxV3JVbNsce",
        "outputId": "d216d3d0-1773-40ec-e2c3-9407d1a5747e"
      },
      "source": [
        "cnn.fit(X_train,y_train,epochs=10)"
      ],
      "execution_count": 47,
      "outputs": [
        {
          "output_type": "stream",
          "text": [
            "Epoch 1/10\n",
            "1563/1563 [==============================] - 61s 39ms/step - loss: 1.7131 - accuracy: 0.3763\n",
            "Epoch 2/10\n",
            "1563/1563 [==============================] - 61s 39ms/step - loss: 1.1573 - accuracy: 0.5943\n",
            "Epoch 3/10\n",
            "1563/1563 [==============================] - 60s 39ms/step - loss: 1.0073 - accuracy: 0.6496\n",
            "Epoch 4/10\n",
            "1563/1563 [==============================] - 60s 39ms/step - loss: 0.8984 - accuracy: 0.6873\n",
            "Epoch 5/10\n",
            "1563/1563 [==============================] - 60s 38ms/step - loss: 0.8288 - accuracy: 0.7130\n",
            "Epoch 6/10\n",
            "1563/1563 [==============================] - 59s 38ms/step - loss: 0.7790 - accuracy: 0.7275\n",
            "Epoch 7/10\n",
            "1563/1563 [==============================] - 60s 38ms/step - loss: 0.7252 - accuracy: 0.7475\n",
            "Epoch 8/10\n",
            "1563/1563 [==============================] - 60s 38ms/step - loss: 0.6863 - accuracy: 0.7594\n",
            "Epoch 9/10\n",
            "1563/1563 [==============================] - 60s 38ms/step - loss: 0.6384 - accuracy: 0.7746\n",
            "Epoch 10/10\n",
            "1563/1563 [==============================] - 60s 38ms/step - loss: 0.6035 - accuracy: 0.7903\n"
          ],
          "name": "stdout"
        },
        {
          "output_type": "execute_result",
          "data": {
            "text/plain": [
              "<tensorflow.python.keras.callbacks.History at 0x7fdedde2e3d0>"
            ]
          },
          "metadata": {
            "tags": []
          },
          "execution_count": 47
        }
      ]
    },
    {
      "cell_type": "code",
      "metadata": {
        "colab": {
          "base_uri": "https://localhost:8080/"
        },
        "id": "Y5CkTxG7N2TZ",
        "outputId": "01a226bc-c151-4574-c46d-4a343a3f1f64"
      },
      "source": [
        "cnn.evaluate(X_test,y_test)"
      ],
      "execution_count": 48,
      "outputs": [
        {
          "output_type": "stream",
          "text": [
            "313/313 [==============================] - 4s 12ms/step - loss: 0.9506 - accuracy: 0.6899\n"
          ],
          "name": "stdout"
        },
        {
          "output_type": "execute_result",
          "data": {
            "text/plain": [
              "[0.9505978226661682, 0.6898999810218811]"
            ]
          },
          "metadata": {
            "tags": []
          },
          "execution_count": 48
        }
      ]
    },
    {
      "cell_type": "code",
      "metadata": {
        "id": "cZAzWcLPWkFp"
      },
      "source": [
        "y_test = y_test.reshape(-1)"
      ],
      "execution_count": 49,
      "outputs": []
    },
    {
      "cell_type": "code",
      "metadata": {
        "colab": {
          "base_uri": "https://localhost:8080/",
          "height": 173
        },
        "id": "AnK2uux3W-hf",
        "outputId": "e8678699-04d6-4787-c28a-121a6020001a"
      },
      "source": [
        "plot_sample(X_test,y_test,1)"
      ],
      "execution_count": 50,
      "outputs": [
        {
          "output_type": "display_data",
          "data": {
            "image/png": "[encoded data removed]",
            "text/plain": [
              "<Figure size 1080x144 with 1 Axes>"
            ]
          },
          "metadata": {
            "tags": [],
            "needs_background": "light"
          }
        }
      ]
    },
    {
      "cell_type": "code",
      "metadata": {
        "colab": {
          "base_uri": "https://localhost:8080/"
        },
        "id": "Tcse6VUHXDXi",
        "outputId": "5d4fe05f-9f39-47f3-9382-95b007157450"
      },
      "source": [
        "y_pred = cnn.predict(X_test)\n",
        "y_pred[:5]"
      ],
      "execution_count": 51,
      "outputs": [
        {
          "output_type": "execute_result",
          "data": {
            "text/plain": [
              "array([[1.1363674e-03, 7.5845946e-06, 1.6016189e-04, 9.6350002e-01,\n",
              "        1.8850977e-04, 2.3974614e-02, 4.2259241e-03, 4.4621393e-06,\n",
              "        6.7403992e-03, 6.2013823e-05],\n",
              "       [4.6674468e-02, 2.9651690e-02, 1.6613765e-06, 1.7630842e-07,\n",
              "        1.8875623e-06, 5.3771823e-09, 2.4010079e-08, 4.3120529e-08,\n",
              "        8.8835710e-01, 3.5312921e-02],\n",
              "       [1.1743658e-01, 1.0155395e-01, 1.4048688e-02, 1.2812103e-02,\n",
              "        3.5217514e-03, 1.9379858e-03, 4.3344647e-03, 3.3051325e-03,\n",
              "        6.6243130e-01, 7.8618094e-02],\n",
              "       [6.7467260e-01, 1.5273920e-02, 4.9947537e-02, 2.7490172e-03,\n",
              "        2.0791052e-02, 1.3181510e-04, 9.2858257e-04, 3.4364471e-03,\n",
              "        2.3195599e-01, 1.1306810e-04],\n",
              "       [5.5451102e-07, 1.8455605e-06, 6.8915081e-03, 1.9148738e-03,\n",
              "        1.6719094e-02, 2.0797475e-05, 9.7442222e-01, 1.9289379e-08,\n",
              "        2.8738339e-05, 2.7851127e-07]], dtype=float32)"
            ]
          },
          "metadata": {
            "tags": []
          },
          "execution_count": 51
        }
      ]
    },
    {
      "cell_type": "code",
      "metadata": {
        "colab": {
          "base_uri": "https://localhost:8080/"
        },
        "id": "sqKqvzn0XWMn",
        "outputId": "e1447888-2f70-4f84-d230-fa5fdfc5bbf0"
      },
      "source": [
        "y_classes = [np.argmax(element) for element in y_pred]\n",
        "y_classes[:5]"
      ],
      "execution_count": 54,
      "outputs": [
        {
          "output_type": "execute_result",
          "data": {
            "text/plain": [
              "[3, 8, 8, 0, 6]"
            ]
          },
          "metadata": {
            "tags": []
          },
          "execution_count": 54
        }
      ]
    },
    {
      "cell_type": "code",
      "metadata": {
        "colab": {
          "base_uri": "https://localhost:8080/"
        },
        "id": "b8vY7INDXwqi",
        "outputId": "86bee055-6f3a-4dd6-9b7d-4d5c671f2a52"
      },
      "source": [
        "y_test[:5]"
      ],
      "execution_count": 55,
      "outputs": [
        {
          "output_type": "execute_result",
          "data": {
            "text/plain": [
              "array([3, 8, 8, 0, 6], dtype=uint8)"
            ]
          },
          "metadata": {
            "tags": []
          },
          "execution_count": 55
        }
      ]
    },
    {
      "cell_type": "code",
      "metadata": {
        "colab": {
          "base_uri": "https://localhost:8080/"
        },
        "id": "ObjjQwhNYWef",
        "outputId": "11903dfb-cb32-4966-c12d-ded9a2c2985f"
      },
      "source": [
        "print('Classification Report: \\n',classification_report(y_test,y_classes))"
      ],
      "execution_count": 56,
      "outputs": [
        {
          "output_type": "stream",
          "text": [
            "Classification Report: \n",
            "               precision    recall  f1-score   support\n",
            "\n",
            "           0       0.72      0.76      0.74      1000\n",
            "           1       0.87      0.77      0.82      1000\n",
            "           2       0.58      0.59      0.59      1000\n",
            "           3       0.50      0.48      0.49      1000\n",
            "           4       0.62      0.61      0.62      1000\n",
            "           5       0.67      0.53      0.59      1000\n",
            "           6       0.60      0.89      0.72      1000\n",
            "           7       0.84      0.69      0.76      1000\n",
            "           8       0.78      0.80      0.79      1000\n",
            "           9       0.81      0.77      0.79      1000\n",
            "\n",
            "    accuracy                           0.69     10000\n",
            "   macro avg       0.70      0.69      0.69     10000\n",
            "weighted avg       0.70      0.69      0.69     10000\n",
            "\n"
          ],
          "name": "stdout"
        }
      ]
    },
    {
      "cell_type": "code",
      "metadata": {
        "id": "iLd5RkKmY8eY"
      },
      "source": [
        ""
      ],
      "execution_count": null,
      "outputs": []
    }
  ]
}